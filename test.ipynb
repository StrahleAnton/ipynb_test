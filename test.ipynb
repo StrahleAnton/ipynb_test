{
 "cells": [
  {
   "cell_type": "code",
   "execution_count": 1,
   "metadata": {},
   "outputs": [
    {
     "name": "stdout",
     "output_type": "stream",
     "text": [
      "Current time: 12:56:22.741982\n"
     ]
    }
   ],
   "source": [
    "from datetime import datetime\n",
    "import pymssql as ps\n",
    "\n",
    "server = \"sql-server-light.caovwyuiammv.eu-north-1.rds.amazonaws.com\"\n",
    "user = \"admin\"\n",
    "password = \"hkx9MFT3nzq4hgz.tfj\"\n",
    "database = \"master\"\n",
    "\n",
    "\n",
    "q = \"SELECT roleprn.name AS database_role FROM sys.database_role_members rolemem\"\n",
    "\n",
    "with ps.connect(server, user, password, database) as cnxn:\n",
    "    cnxn.autocommit(True)\n",
    "    with cnxn.cursor() as cursor:\n",
    "        cursor.execute(\"USE xpressfeed;\")\n",
    "        cursor.execute(q)\n",
    "        res = cursor.fetchall()\n",
    "res"
   ]
  }
 ],
 "metadata": {
  "kernelspec": {
   "display_name": "Python 3",
   "language": "python",
   "name": "python3"
  },
  "language_info": {
   "codemirror_mode": {
    "name": "ipython",
    "version": 3
   },
   "file_extension": ".py",
   "mimetype": "text/x-python",
   "name": "python",
   "nbconvert_exporter": "python",
   "pygments_lexer": "ipython3",
   "version": "3.10.12"
  }
 },
 "nbformat": 4,
 "nbformat_minor": 2
}
