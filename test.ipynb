{
 "cells": [
  {
   "cell_type": "code",
   "execution_count": 1,
   "metadata": {},
   "outputs": [
    {
     "name": "stdout",
     "output_type": "stream",
     "text": [
      "Current time: 12:56:22.741982\n"
     ]
    }
   ],
   "source": [
    "from datetime import datetime\n",
    "from arcticdb import Arctic\n",
    "\n",
    "# Connect to the Arctic database\n",
    "\n",
    "arctic = Arctic(\"s3://s3.eu-north-1.amazonaws.com:eternia-bucket-dev?aws_auth=true\")\n",
    "\n",
    "arctic.list_libraries()"
   ]
  }
 ],
 "metadata": {
  "kernelspec": {
   "display_name": "Python 3",
   "language": "python",
   "name": "python3"
  },
  "language_info": {
   "codemirror_mode": {
    "name": "ipython",
    "version": 3
   },
   "file_extension": ".py",
   "mimetype": "text/x-python",
   "name": "python",
   "nbconvert_exporter": "python",
   "pygments_lexer": "ipython3",
   "version": "3.10.12"
  }
 },
 "nbformat": 4,
 "nbformat_minor": 2
}
